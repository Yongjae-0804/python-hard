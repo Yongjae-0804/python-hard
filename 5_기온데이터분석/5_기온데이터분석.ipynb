{
 "cells": [
  {
   "cell_type": "markdown",
   "metadata": {},
   "source": [
    "### 데이터 읽어오기"
   ]
  },
  {
   "cell_type": "code",
   "execution_count": 1,
   "metadata": {},
   "outputs": [],
   "source": [
    "import pandas as pd"
   ]
  },
  {
   "cell_type": "code",
   "execution_count": null,
   "metadata": {},
   "outputs": [],
   "source": [
    "df=pd.read_csv('seoul.csv', encoding='cp949')\n",
    "df.head()"
   ]
  },
  {
   "cell_type": "code",
   "execution_count": null,
   "metadata": {},
   "outputs": [],
   "source": [
    "df.set_index('날짜', inplace= True)\n",
    "df.head()"
   ]
  },
  {
   "cell_type": "code",
   "execution_count": 2,
   "metadata": {},
   "outputs": [
    {
     "data": {
      "text/html": [
       "<div>\n",
       "<style scoped>\n",
       "    .dataframe tbody tr th:only-of-type {\n",
       "        vertical-align: middle;\n",
       "    }\n",
       "\n",
       "    .dataframe tbody tr th {\n",
       "        vertical-align: top;\n",
       "    }\n",
       "\n",
       "    .dataframe thead th {\n",
       "        text-align: right;\n",
       "    }\n",
       "</style>\n",
       "<table border=\"1\" class=\"dataframe\">\n",
       "  <thead>\n",
       "    <tr style=\"text-align: right;\">\n",
       "      <th></th>\n",
       "      <th>지점</th>\n",
       "      <th>평균기온(℃)</th>\n",
       "      <th>최저기온(℃)</th>\n",
       "      <th>최고기온(℃)</th>\n",
       "    </tr>\n",
       "    <tr>\n",
       "      <th>날짜</th>\n",
       "      <th></th>\n",
       "      <th></th>\n",
       "      <th></th>\n",
       "      <th></th>\n",
       "    </tr>\n",
       "  </thead>\n",
       "  <tbody>\n",
       "    <tr>\n",
       "      <th>1907-10-01</th>\n",
       "      <td>108</td>\n",
       "      <td>13.5</td>\n",
       "      <td>7.9</td>\n",
       "      <td>20.7</td>\n",
       "    </tr>\n",
       "    <tr>\n",
       "      <th>1907-10-02</th>\n",
       "      <td>108</td>\n",
       "      <td>16.2</td>\n",
       "      <td>7.9</td>\n",
       "      <td>22.0</td>\n",
       "    </tr>\n",
       "    <tr>\n",
       "      <th>1907-10-03</th>\n",
       "      <td>108</td>\n",
       "      <td>16.2</td>\n",
       "      <td>13.1</td>\n",
       "      <td>21.3</td>\n",
       "    </tr>\n",
       "    <tr>\n",
       "      <th>1907-10-04</th>\n",
       "      <td>108</td>\n",
       "      <td>16.5</td>\n",
       "      <td>11.2</td>\n",
       "      <td>22.0</td>\n",
       "    </tr>\n",
       "    <tr>\n",
       "      <th>1907-10-05</th>\n",
       "      <td>108</td>\n",
       "      <td>17.6</td>\n",
       "      <td>10.9</td>\n",
       "      <td>25.4</td>\n",
       "    </tr>\n",
       "  </tbody>\n",
       "</table>\n",
       "</div>"
      ],
      "text/plain": [
       "             지점  평균기온(℃)  최저기온(℃)  최고기온(℃)\n",
       "날짜                                        \n",
       "1907-10-01  108     13.5      7.9     20.7\n",
       "1907-10-02  108     16.2      7.9     22.0\n",
       "1907-10-03  108     16.2     13.1     21.3\n",
       "1907-10-04  108     16.5     11.2     22.0\n",
       "1907-10-05  108     17.6     10.9     25.4"
      ]
     },
     "execution_count": 2,
     "metadata": {},
     "output_type": "execute_result"
    }
   ],
   "source": [
    "df=pd.read_csv('seoul.csv', encoding='cp949', index_col=0)\n",
    "df.head()"
   ]
  },
  {
   "cell_type": "code",
   "execution_count": null,
   "metadata": {},
   "outputs": [],
   "source": [
    "df.index.dtype"
   ]
  },
  {
   "cell_type": "code",
   "execution_count": 4,
   "metadata": {},
   "outputs": [
    {
     "data": {
      "text/plain": [
       "Index(['평균기온(℃)', '최저기온(℃)', '최고기온(℃)'], dtype='object')"
      ]
     },
     "execution_count": 4,
     "metadata": {},
     "output_type": "execute_result"
    }
   ],
   "source": [
    "df.columns   "
   ]
  },
  {
   "cell_type": "code",
   "execution_count": 3,
   "metadata": {},
   "outputs": [
    {
     "data": {
      "text/html": [
       "<div>\n",
       "<style scoped>\n",
       "    .dataframe tbody tr th:only-of-type {\n",
       "        vertical-align: middle;\n",
       "    }\n",
       "\n",
       "    .dataframe tbody tr th {\n",
       "        vertical-align: top;\n",
       "    }\n",
       "\n",
       "    .dataframe thead th {\n",
       "        text-align: right;\n",
       "    }\n",
       "</style>\n",
       "<table border=\"1\" class=\"dataframe\">\n",
       "  <thead>\n",
       "    <tr style=\"text-align: right;\">\n",
       "      <th></th>\n",
       "      <th>평균기온(℃)</th>\n",
       "      <th>최저기온(℃)</th>\n",
       "      <th>최고기온(℃)</th>\n",
       "    </tr>\n",
       "    <tr>\n",
       "      <th>날짜</th>\n",
       "      <th></th>\n",
       "      <th></th>\n",
       "      <th></th>\n",
       "    </tr>\n",
       "  </thead>\n",
       "  <tbody>\n",
       "    <tr>\n",
       "      <th>1907-10-01</th>\n",
       "      <td>13.5</td>\n",
       "      <td>7.9</td>\n",
       "      <td>20.7</td>\n",
       "    </tr>\n",
       "    <tr>\n",
       "      <th>1907-10-02</th>\n",
       "      <td>16.2</td>\n",
       "      <td>7.9</td>\n",
       "      <td>22.0</td>\n",
       "    </tr>\n",
       "    <tr>\n",
       "      <th>1907-10-03</th>\n",
       "      <td>16.2</td>\n",
       "      <td>13.1</td>\n",
       "      <td>21.3</td>\n",
       "    </tr>\n",
       "  </tbody>\n",
       "</table>\n",
       "</div>"
      ],
      "text/plain": [
       "            평균기온(℃)  최저기온(℃)  최고기온(℃)\n",
       "날짜                                   \n",
       "1907-10-01     13.5      7.9     20.7\n",
       "1907-10-02     16.2      7.9     22.0\n",
       "1907-10-03     16.2     13.1     21.3"
      ]
     },
     "execution_count": 3,
     "metadata": {},
     "output_type": "execute_result"
    }
   ],
   "source": [
    "del df['지점']        #'지점' column 삭제\n",
    "df.head(3)"
   ]
  },
  {
   "cell_type": "code",
   "execution_count": 5,
   "metadata": {},
   "outputs": [
    {
     "name": "stdout",
     "output_type": "stream",
     "text": [
      "<class 'pandas.core.frame.DataFrame'>\n",
      "Index: 41506 entries, 1907-10-01 to 2022-07-25\n",
      "Data columns (total 3 columns):\n",
      " #   Column   Non-Null Count  Dtype  \n",
      "---  ------   --------------  -----  \n",
      " 0   평균기온(℃)  40750 non-null  float64\n",
      " 1   최저기온(℃)  40748 non-null  float64\n",
      " 2   최고기온(℃)  40747 non-null  float64\n",
      "dtypes: float64(3)\n",
      "memory usage: 1.3+ MB\n"
     ]
    }
   ],
   "source": [
    "# 컬럼의 데이터타입 확인  \n",
    "df.info()"
   ]
  },
  {
   "cell_type": "markdown",
   "metadata": {},
   "source": [
    "###  서울이 가장 더웠던 날은 언제?"
   ]
  },
  {
   "cell_type": "code",
   "execution_count": 6,
   "metadata": {},
   "outputs": [
    {
     "data": {
      "text/html": [
       "<div>\n",
       "<style scoped>\n",
       "    .dataframe tbody tr th:only-of-type {\n",
       "        vertical-align: middle;\n",
       "    }\n",
       "\n",
       "    .dataframe tbody tr th {\n",
       "        vertical-align: top;\n",
       "    }\n",
       "\n",
       "    .dataframe thead th {\n",
       "        text-align: right;\n",
       "    }\n",
       "</style>\n",
       "<table border=\"1\" class=\"dataframe\">\n",
       "  <thead>\n",
       "    <tr style=\"text-align: right;\">\n",
       "      <th></th>\n",
       "      <th>평균기온(℃)</th>\n",
       "      <th>최저기온(℃)</th>\n",
       "      <th>최고기온(℃)</th>\n",
       "    </tr>\n",
       "    <tr>\n",
       "      <th>날짜</th>\n",
       "      <th></th>\n",
       "      <th></th>\n",
       "      <th></th>\n",
       "    </tr>\n",
       "  </thead>\n",
       "  <tbody>\n",
       "    <tr>\n",
       "      <th>1950-09-01</th>\n",
       "      <td>NaN</td>\n",
       "      <td>NaN</td>\n",
       "      <td>NaN</td>\n",
       "    </tr>\n",
       "    <tr>\n",
       "      <th>1950-09-02</th>\n",
       "      <td>NaN</td>\n",
       "      <td>NaN</td>\n",
       "      <td>NaN</td>\n",
       "    </tr>\n",
       "    <tr>\n",
       "      <th>1950-09-03</th>\n",
       "      <td>NaN</td>\n",
       "      <td>NaN</td>\n",
       "      <td>NaN</td>\n",
       "    </tr>\n",
       "    <tr>\n",
       "      <th>1950-09-04</th>\n",
       "      <td>NaN</td>\n",
       "      <td>NaN</td>\n",
       "      <td>NaN</td>\n",
       "    </tr>\n",
       "    <tr>\n",
       "      <th>1950-09-05</th>\n",
       "      <td>NaN</td>\n",
       "      <td>NaN</td>\n",
       "      <td>NaN</td>\n",
       "    </tr>\n",
       "    <tr>\n",
       "      <th>...</th>\n",
       "      <td>...</td>\n",
       "      <td>...</td>\n",
       "      <td>...</td>\n",
       "    </tr>\n",
       "    <tr>\n",
       "      <th>1953-11-26</th>\n",
       "      <td>NaN</td>\n",
       "      <td>NaN</td>\n",
       "      <td>NaN</td>\n",
       "    </tr>\n",
       "    <tr>\n",
       "      <th>1953-11-27</th>\n",
       "      <td>NaN</td>\n",
       "      <td>NaN</td>\n",
       "      <td>NaN</td>\n",
       "    </tr>\n",
       "    <tr>\n",
       "      <th>1953-11-28</th>\n",
       "      <td>NaN</td>\n",
       "      <td>NaN</td>\n",
       "      <td>NaN</td>\n",
       "    </tr>\n",
       "    <tr>\n",
       "      <th>1953-11-29</th>\n",
       "      <td>NaN</td>\n",
       "      <td>NaN</td>\n",
       "      <td>NaN</td>\n",
       "    </tr>\n",
       "    <tr>\n",
       "      <th>1953-11-30</th>\n",
       "      <td>NaN</td>\n",
       "      <td>NaN</td>\n",
       "      <td>NaN</td>\n",
       "    </tr>\n",
       "  </tbody>\n",
       "</table>\n",
       "<p>756 rows × 3 columns</p>\n",
       "</div>"
      ],
      "text/plain": [
       "            평균기온(℃)  최저기온(℃)  최고기온(℃)\n",
       "날짜                                   \n",
       "1950-09-01      NaN      NaN      NaN\n",
       "1950-09-02      NaN      NaN      NaN\n",
       "1950-09-03      NaN      NaN      NaN\n",
       "1950-09-04      NaN      NaN      NaN\n",
       "1950-09-05      NaN      NaN      NaN\n",
       "...             ...      ...      ...\n",
       "1953-11-26      NaN      NaN      NaN\n",
       "1953-11-27      NaN      NaN      NaN\n",
       "1953-11-28      NaN      NaN      NaN\n",
       "1953-11-29      NaN      NaN      NaN\n",
       "1953-11-30      NaN      NaN      NaN\n",
       "\n",
       "[756 rows x 3 columns]"
      ]
     },
     "execution_count": 6,
     "metadata": {},
     "output_type": "execute_result"
    }
   ],
   "source": [
    "# isnull 함수로 결측치(NaN) 찾기. \n",
    "# DataFrame 값 중에서 NaN인 행만 추출\n",
    "\n",
    "df[df['평균기온(℃)'].isnull()]"
   ]
  },
  {
   "cell_type": "code",
   "execution_count": 7,
   "metadata": {},
   "outputs": [],
   "source": [
    "df.dropna(how='any', inplace=True)  # how='any' 행 데이터 중 하나라도 NaN이면 해당 행 제거  \n",
    "                                    # how='all' 행 데이터의 모든 값이 NaN 인 행 제거"
   ]
  },
  {
   "cell_type": "code",
   "execution_count": 8,
   "metadata": {},
   "outputs": [
    {
     "name": "stdout",
     "output_type": "stream",
     "text": [
      "<class 'pandas.core.frame.DataFrame'>\n",
      "Index: 40747 entries, 1907-10-01 to 2022-07-25\n",
      "Data columns (total 3 columns):\n",
      " #   Column   Non-Null Count  Dtype  \n",
      "---  ------   --------------  -----  \n",
      " 0   평균기온(℃)  40747 non-null  float64\n",
      " 1   최저기온(℃)  40747 non-null  float64\n",
      " 2   최고기온(℃)  40747 non-null  float64\n",
      "dtypes: float64(3)\n",
      "memory usage: 1.2+ MB\n"
     ]
    }
   ],
   "source": [
    "df.info()"
   ]
  },
  {
   "cell_type": "code",
   "execution_count": null,
   "metadata": {},
   "outputs": [],
   "source": [
    "df['최고기온(℃)'].max()"
   ]
  },
  {
   "cell_type": "code",
   "execution_count": 9,
   "metadata": {},
   "outputs": [
    {
     "data": {
      "text/plain": [
       "-23.1"
      ]
     },
     "execution_count": 9,
     "metadata": {},
     "output_type": "execute_result"
    }
   ],
   "source": [
    "df['최저기온(℃)'].min()"
   ]
  },
  {
   "cell_type": "code",
   "execution_count": 10,
   "metadata": {},
   "outputs": [
    {
     "data": {
      "text/plain": [
       "'1927-12-31'"
      ]
     },
     "execution_count": 10,
     "metadata": {},
     "output_type": "execute_result"
    }
   ],
   "source": [
    "df['최저기온(℃)'].idxmin()"
   ]
  },
  {
   "cell_type": "code",
   "execution_count": 11,
   "metadata": {},
   "outputs": [
    {
     "data": {
      "text/plain": [
       "'2018-08-01'"
      ]
     },
     "execution_count": 11,
     "metadata": {},
     "output_type": "execute_result"
    }
   ],
   "source": [
    "df['최고기온(℃)'].idxmax()    #'최고기온(℃)' 열 중 최대값에 해당하는 index 찾기"
   ]
  },
  {
   "cell_type": "code",
   "execution_count": 12,
   "metadata": {},
   "outputs": [
    {
     "data": {
      "text/plain": [
       "평균기온(℃)    33.6\n",
       "최저기온(℃)    27.8\n",
       "최고기온(℃)    39.6\n",
       "Name: 2018-08-01, dtype: float64"
      ]
     },
     "execution_count": 12,
     "metadata": {},
     "output_type": "execute_result"
    }
   ],
   "source": [
    "df.loc['2018-08-01']"
   ]
  },
  {
   "cell_type": "code",
   "execution_count": 13,
   "metadata": {},
   "outputs": [
    {
     "data": {
      "text/plain": [
       "39.6"
      ]
     },
     "execution_count": 13,
     "metadata": {},
     "output_type": "execute_result"
    }
   ],
   "source": [
    "df.loc['2018-08-01','최고기온(℃)']     # 인덱싱"
   ]
  },
  {
   "cell_type": "code",
   "execution_count": null,
   "metadata": {},
   "outputs": [],
   "source": [
    "print('기상관측 이래 서울의 최고기온이 가장 높았던 날은',\n",
    "      df['최고기온(℃)'].idxmax(), '로, ',\n",
    "      df.loc['2018-08-01','최고기온(℃)'], '도 였습니다.')"
   ]
  },
  {
   "cell_type": "code",
   "execution_count": 14,
   "metadata": {},
   "outputs": [
    {
     "data": {
      "text/plain": [
       "날짜\n",
       "2018-08-01    39.6\n",
       "1994-07-24    38.4\n",
       "2018-07-31    38.3\n",
       "1939-08-10    38.2\n",
       "1943-08-24    38.2\n",
       "Name: 최고기온(℃), dtype: float64"
      ]
     },
     "execution_count": 14,
     "metadata": {},
     "output_type": "execute_result"
    }
   ],
   "source": [
    "df['최고기온(℃)'].nlargest(5)    #'최고기온(℃)'이 높은 5개 출력"
   ]
  },
  {
   "cell_type": "code",
   "execution_count": 15,
   "metadata": {},
   "outputs": [
    {
     "data": {
      "text/plain": [
       "날짜\n",
       "1927-12-31   -23.1\n",
       "1931-01-11   -22.5\n",
       "1920-01-04   -22.3\n",
       "1928-01-05   -22.2\n",
       "1931-01-10   -21.9\n",
       "Name: 최저기온(℃), dtype: float64"
      ]
     },
     "execution_count": 15,
     "metadata": {},
     "output_type": "execute_result"
    }
   ],
   "source": [
    "df['최저기온(℃)'].nsmallest(5)   #'최저기온(℃)'이 낮은 5개 출력"
   ]
  },
  {
   "cell_type": "code",
   "execution_count": null,
   "metadata": {},
   "outputs": [],
   "source": [
    "# 최저 기온 응용\n",
    "print('기상관측 이래 서울의 최저기온이 가장 낮았던 날은',\n",
    "      df['최저기온(℃)'].idxmin(), '로, ',\n",
    "      df.loc['1927-12-31','최저기온(℃)'], '도 였습니다.')"
   ]
  },
  {
   "cell_type": "markdown",
   "metadata": {},
   "source": [
    "### 내 생일 기온 변화 그래프 그리기"
   ]
  },
  {
   "cell_type": "code",
   "execution_count": 16,
   "metadata": {},
   "outputs": [
    {
     "data": {
      "text/plain": [
       "Index(['1907-10-01', '1907-10-02', '1907-10-03', '1907-10-04', '1907-10-05',\n",
       "       '1907-10-06', '1907-10-07', '1907-10-08', '1907-10-09', '1907-10-10',\n",
       "       ...\n",
       "       '2022-07-16', '2022-07-17', '2022-07-18', '2022-07-19', '2022-07-20',\n",
       "       '2022-07-21', '2022-07-22', '2022-07-23', '2022-07-24', '2022-07-25'],\n",
       "      dtype='object', name='날짜', length=40747)"
      ]
     },
     "execution_count": 16,
     "metadata": {},
     "output_type": "execute_result"
    }
   ],
   "source": [
    "df.index"
   ]
  },
  {
   "cell_type": "code",
   "execution_count": 17,
   "metadata": {},
   "outputs": [
    {
     "data": {
      "text/html": [
       "<div>\n",
       "<style scoped>\n",
       "    .dataframe tbody tr th:only-of-type {\n",
       "        vertical-align: middle;\n",
       "    }\n",
       "\n",
       "    .dataframe tbody tr th {\n",
       "        vertical-align: top;\n",
       "    }\n",
       "\n",
       "    .dataframe thead th {\n",
       "        text-align: right;\n",
       "    }\n",
       "</style>\n",
       "<table border=\"1\" class=\"dataframe\">\n",
       "  <thead>\n",
       "    <tr style=\"text-align: right;\">\n",
       "      <th></th>\n",
       "      <th>평균기온(℃)</th>\n",
       "      <th>최저기온(℃)</th>\n",
       "      <th>최고기온(℃)</th>\n",
       "    </tr>\n",
       "    <tr>\n",
       "      <th>날짜</th>\n",
       "      <th></th>\n",
       "      <th></th>\n",
       "      <th></th>\n",
       "    </tr>\n",
       "  </thead>\n",
       "  <tbody>\n",
       "    <tr>\n",
       "      <th>1908-03-06</th>\n",
       "      <td>3.3</td>\n",
       "      <td>-0.5</td>\n",
       "      <td>7.9</td>\n",
       "    </tr>\n",
       "    <tr>\n",
       "      <th>1909-03-06</th>\n",
       "      <td>0.6</td>\n",
       "      <td>-2.5</td>\n",
       "      <td>3.4</td>\n",
       "    </tr>\n",
       "    <tr>\n",
       "      <th>1910-03-06</th>\n",
       "      <td>-3.1</td>\n",
       "      <td>-8.6</td>\n",
       "      <td>2.0</td>\n",
       "    </tr>\n",
       "    <tr>\n",
       "      <th>1911-03-06</th>\n",
       "      <td>6.1</td>\n",
       "      <td>4.9</td>\n",
       "      <td>7.4</td>\n",
       "    </tr>\n",
       "    <tr>\n",
       "      <th>1912-03-06</th>\n",
       "      <td>5.1</td>\n",
       "      <td>0.4</td>\n",
       "      <td>10.0</td>\n",
       "    </tr>\n",
       "  </tbody>\n",
       "</table>\n",
       "</div>"
      ],
      "text/plain": [
       "            평균기온(℃)  최저기온(℃)  최고기온(℃)\n",
       "날짜                                   \n",
       "1908-03-06      3.3     -0.5      7.9\n",
       "1909-03-06      0.6     -2.5      3.4\n",
       "1910-03-06     -3.1     -8.6      2.0\n",
       "1911-03-06      6.1      4.9      7.4\n",
       "1912-03-06      5.1      0.4     10.0"
      ]
     },
     "execution_count": 17,
     "metadata": {},
     "output_type": "execute_result"
    }
   ],
   "source": [
    "birth=df[df.index.str.contains('03-06')]\n",
    "birth.head()"
   ]
  },
  {
   "cell_type": "code",
   "execution_count": 18,
   "metadata": {},
   "outputs": [
    {
     "data": {
      "text/html": [
       "<div>\n",
       "<style scoped>\n",
       "    .dataframe tbody tr th:only-of-type {\n",
       "        vertical-align: middle;\n",
       "    }\n",
       "\n",
       "    .dataframe tbody tr th {\n",
       "        vertical-align: top;\n",
       "    }\n",
       "\n",
       "    .dataframe thead th {\n",
       "        text-align: right;\n",
       "    }\n",
       "</style>\n",
       "<table border=\"1\" class=\"dataframe\">\n",
       "  <thead>\n",
       "    <tr style=\"text-align: right;\">\n",
       "      <th></th>\n",
       "      <th>평균기온(℃)</th>\n",
       "      <th>최저기온(℃)</th>\n",
       "      <th>최고기온(℃)</th>\n",
       "    </tr>\n",
       "    <tr>\n",
       "      <th>날짜</th>\n",
       "      <th></th>\n",
       "      <th></th>\n",
       "      <th></th>\n",
       "    </tr>\n",
       "  </thead>\n",
       "  <tbody>\n",
       "    <tr>\n",
       "      <th>2003-06-20</th>\n",
       "      <td>21.9</td>\n",
       "      <td>18.9</td>\n",
       "      <td>25.5</td>\n",
       "    </tr>\n",
       "    <tr>\n",
       "      <th>2003-06-21</th>\n",
       "      <td>23.5</td>\n",
       "      <td>19.4</td>\n",
       "      <td>27.9</td>\n",
       "    </tr>\n",
       "    <tr>\n",
       "      <th>2003-06-22</th>\n",
       "      <td>24.5</td>\n",
       "      <td>19.9</td>\n",
       "      <td>30.4</td>\n",
       "    </tr>\n",
       "    <tr>\n",
       "      <th>2003-06-23</th>\n",
       "      <td>21.4</td>\n",
       "      <td>18.9</td>\n",
       "      <td>23.9</td>\n",
       "    </tr>\n",
       "    <tr>\n",
       "      <th>2003-06-24</th>\n",
       "      <td>16.7</td>\n",
       "      <td>15.8</td>\n",
       "      <td>18.9</td>\n",
       "    </tr>\n",
       "    <tr>\n",
       "      <th>2003-06-25</th>\n",
       "      <td>19.2</td>\n",
       "      <td>15.8</td>\n",
       "      <td>23.6</td>\n",
       "    </tr>\n",
       "    <tr>\n",
       "      <th>2003-06-26</th>\n",
       "      <td>22.4</td>\n",
       "      <td>18.1</td>\n",
       "      <td>27.5</td>\n",
       "    </tr>\n",
       "    <tr>\n",
       "      <th>2003-06-27</th>\n",
       "      <td>20.0</td>\n",
       "      <td>18.2</td>\n",
       "      <td>22.5</td>\n",
       "    </tr>\n",
       "    <tr>\n",
       "      <th>2003-06-28</th>\n",
       "      <td>22.8</td>\n",
       "      <td>18.1</td>\n",
       "      <td>28.1</td>\n",
       "    </tr>\n",
       "    <tr>\n",
       "      <th>2003-06-29</th>\n",
       "      <td>19.7</td>\n",
       "      <td>18.5</td>\n",
       "      <td>20.7</td>\n",
       "    </tr>\n",
       "    <tr>\n",
       "      <th>2003-06-30</th>\n",
       "      <td>22.8</td>\n",
       "      <td>19.0</td>\n",
       "      <td>28.3</td>\n",
       "    </tr>\n",
       "    <tr>\n",
       "      <th>2004-03-06</th>\n",
       "      <td>-3.4</td>\n",
       "      <td>-5.0</td>\n",
       "      <td>-0.8</td>\n",
       "    </tr>\n",
       "    <tr>\n",
       "      <th>2005-03-06</th>\n",
       "      <td>0.5</td>\n",
       "      <td>-3.5</td>\n",
       "      <td>5.1</td>\n",
       "    </tr>\n",
       "    <tr>\n",
       "      <th>2006-03-06</th>\n",
       "      <td>5.9</td>\n",
       "      <td>0.6</td>\n",
       "      <td>12.1</td>\n",
       "    </tr>\n",
       "    <tr>\n",
       "      <th>2007-03-06</th>\n",
       "      <td>-5.0</td>\n",
       "      <td>-7.6</td>\n",
       "      <td>-1.6</td>\n",
       "    </tr>\n",
       "    <tr>\n",
       "      <th>2008-03-06</th>\n",
       "      <td>4.3</td>\n",
       "      <td>1.5</td>\n",
       "      <td>7.8</td>\n",
       "    </tr>\n",
       "    <tr>\n",
       "      <th>2009-03-06</th>\n",
       "      <td>1.6</td>\n",
       "      <td>-1.9</td>\n",
       "      <td>4.0</td>\n",
       "    </tr>\n",
       "    <tr>\n",
       "      <th>2010-03-06</th>\n",
       "      <td>6.0</td>\n",
       "      <td>2.0</td>\n",
       "      <td>10.7</td>\n",
       "    </tr>\n",
       "    <tr>\n",
       "      <th>2011-03-06</th>\n",
       "      <td>3.4</td>\n",
       "      <td>1.2</td>\n",
       "      <td>7.4</td>\n",
       "    </tr>\n",
       "    <tr>\n",
       "      <th>2012-03-06</th>\n",
       "      <td>3.0</td>\n",
       "      <td>1.8</td>\n",
       "      <td>4.6</td>\n",
       "    </tr>\n",
       "    <tr>\n",
       "      <th>2013-03-06</th>\n",
       "      <td>7.9</td>\n",
       "      <td>0.9</td>\n",
       "      <td>14.3</td>\n",
       "    </tr>\n",
       "    <tr>\n",
       "      <th>2014-03-06</th>\n",
       "      <td>0.3</td>\n",
       "      <td>-3.0</td>\n",
       "      <td>5.0</td>\n",
       "    </tr>\n",
       "    <tr>\n",
       "      <th>2015-03-06</th>\n",
       "      <td>2.9</td>\n",
       "      <td>-3.2</td>\n",
       "      <td>10.4</td>\n",
       "    </tr>\n",
       "    <tr>\n",
       "      <th>2016-03-06</th>\n",
       "      <td>7.9</td>\n",
       "      <td>4.3</td>\n",
       "      <td>12.9</td>\n",
       "    </tr>\n",
       "    <tr>\n",
       "      <th>2017-03-06</th>\n",
       "      <td>0.1</td>\n",
       "      <td>-2.8</td>\n",
       "      <td>4.0</td>\n",
       "    </tr>\n",
       "    <tr>\n",
       "      <th>2018-03-06</th>\n",
       "      <td>4.5</td>\n",
       "      <td>-1.1</td>\n",
       "      <td>10.9</td>\n",
       "    </tr>\n",
       "    <tr>\n",
       "      <th>2019-03-06</th>\n",
       "      <td>8.4</td>\n",
       "      <td>5.7</td>\n",
       "      <td>12.4</td>\n",
       "    </tr>\n",
       "    <tr>\n",
       "      <th>2020-03-06</th>\n",
       "      <td>3.7</td>\n",
       "      <td>-2.5</td>\n",
       "      <td>10.1</td>\n",
       "    </tr>\n",
       "    <tr>\n",
       "      <th>2021-03-06</th>\n",
       "      <td>6.6</td>\n",
       "      <td>3.2</td>\n",
       "      <td>11.6</td>\n",
       "    </tr>\n",
       "    <tr>\n",
       "      <th>2022-03-06</th>\n",
       "      <td>1.4</td>\n",
       "      <td>-3.0</td>\n",
       "      <td>6.8</td>\n",
       "    </tr>\n",
       "  </tbody>\n",
       "</table>\n",
       "</div>"
      ],
      "text/plain": [
       "            평균기온(℃)  최저기온(℃)  최고기온(℃)\n",
       "날짜                                   \n",
       "2003-06-20     21.9     18.9     25.5\n",
       "2003-06-21     23.5     19.4     27.9\n",
       "2003-06-22     24.5     19.9     30.4\n",
       "2003-06-23     21.4     18.9     23.9\n",
       "2003-06-24     16.7     15.8     18.9\n",
       "2003-06-25     19.2     15.8     23.6\n",
       "2003-06-26     22.4     18.1     27.5\n",
       "2003-06-27     20.0     18.2     22.5\n",
       "2003-06-28     22.8     18.1     28.1\n",
       "2003-06-29     19.7     18.5     20.7\n",
       "2003-06-30     22.8     19.0     28.3\n",
       "2004-03-06     -3.4     -5.0     -0.8\n",
       "2005-03-06      0.5     -3.5      5.1\n",
       "2006-03-06      5.9      0.6     12.1\n",
       "2007-03-06     -5.0     -7.6     -1.6\n",
       "2008-03-06      4.3      1.5      7.8\n",
       "2009-03-06      1.6     -1.9      4.0\n",
       "2010-03-06      6.0      2.0     10.7\n",
       "2011-03-06      3.4      1.2      7.4\n",
       "2012-03-06      3.0      1.8      4.6\n",
       "2013-03-06      7.9      0.9     14.3\n",
       "2014-03-06      0.3     -3.0      5.0\n",
       "2015-03-06      2.9     -3.2     10.4\n",
       "2016-03-06      7.9      4.3     12.9\n",
       "2017-03-06      0.1     -2.8      4.0\n",
       "2018-03-06      4.5     -1.1     10.9\n",
       "2019-03-06      8.4      5.7     12.4\n",
       "2020-03-06      3.7     -2.5     10.1\n",
       "2021-03-06      6.6      3.2     11.6\n",
       "2022-03-06      1.4     -3.0      6.8"
      ]
     },
     "execution_count": 18,
     "metadata": {},
     "output_type": "execute_result"
    }
   ],
   "source": [
    "birth.tail(30)"
   ]
  },
  {
   "cell_type": "code",
   "execution_count": 19,
   "metadata": {},
   "outputs": [
    {
     "data": {
      "text/plain": [
       "Index(['10-01', '10-02', '10-03', '10-04', '10-05', '10-06', '10-07', '10-08',\n",
       "       '10-09', '10-10',\n",
       "       ...\n",
       "       '07-16', '07-17', '07-18', '07-19', '07-20', '07-21', '07-22', '07-23',\n",
       "       '07-24', '07-25'],\n",
       "      dtype='object', name='날짜', length=40747)"
      ]
     },
     "execution_count": 19,
     "metadata": {},
     "output_type": "execute_result"
    }
   ],
   "source": [
    "df.index.str[5:]"
   ]
  },
  {
   "cell_type": "code",
   "execution_count": 20,
   "metadata": {},
   "outputs": [
    {
     "data": {
      "text/html": [
       "<div>\n",
       "<style scoped>\n",
       "    .dataframe tbody tr th:only-of-type {\n",
       "        vertical-align: middle;\n",
       "    }\n",
       "\n",
       "    .dataframe tbody tr th {\n",
       "        vertical-align: top;\n",
       "    }\n",
       "\n",
       "    .dataframe thead th {\n",
       "        text-align: right;\n",
       "    }\n",
       "</style>\n",
       "<table border=\"1\" class=\"dataframe\">\n",
       "  <thead>\n",
       "    <tr style=\"text-align: right;\">\n",
       "      <th></th>\n",
       "      <th>평균기온(℃)</th>\n",
       "      <th>최저기온(℃)</th>\n",
       "      <th>최고기온(℃)</th>\n",
       "    </tr>\n",
       "    <tr>\n",
       "      <th>날짜</th>\n",
       "      <th></th>\n",
       "      <th></th>\n",
       "      <th></th>\n",
       "    </tr>\n",
       "  </thead>\n",
       "  <tbody>\n",
       "    <tr>\n",
       "      <th>2003-03-06</th>\n",
       "      <td>3.4</td>\n",
       "      <td>1.7</td>\n",
       "      <td>4.1</td>\n",
       "    </tr>\n",
       "    <tr>\n",
       "      <th>2004-03-06</th>\n",
       "      <td>-3.4</td>\n",
       "      <td>-5.0</td>\n",
       "      <td>-0.8</td>\n",
       "    </tr>\n",
       "    <tr>\n",
       "      <th>2005-03-06</th>\n",
       "      <td>0.5</td>\n",
       "      <td>-3.5</td>\n",
       "      <td>5.1</td>\n",
       "    </tr>\n",
       "    <tr>\n",
       "      <th>2006-03-06</th>\n",
       "      <td>5.9</td>\n",
       "      <td>0.6</td>\n",
       "      <td>12.1</td>\n",
       "    </tr>\n",
       "    <tr>\n",
       "      <th>2007-03-06</th>\n",
       "      <td>-5.0</td>\n",
       "      <td>-7.6</td>\n",
       "      <td>-1.6</td>\n",
       "    </tr>\n",
       "    <tr>\n",
       "      <th>2008-03-06</th>\n",
       "      <td>4.3</td>\n",
       "      <td>1.5</td>\n",
       "      <td>7.8</td>\n",
       "    </tr>\n",
       "    <tr>\n",
       "      <th>2009-03-06</th>\n",
       "      <td>1.6</td>\n",
       "      <td>-1.9</td>\n",
       "      <td>4.0</td>\n",
       "    </tr>\n",
       "    <tr>\n",
       "      <th>2010-03-06</th>\n",
       "      <td>6.0</td>\n",
       "      <td>2.0</td>\n",
       "      <td>10.7</td>\n",
       "    </tr>\n",
       "    <tr>\n",
       "      <th>2011-03-06</th>\n",
       "      <td>3.4</td>\n",
       "      <td>1.2</td>\n",
       "      <td>7.4</td>\n",
       "    </tr>\n",
       "    <tr>\n",
       "      <th>2012-03-06</th>\n",
       "      <td>3.0</td>\n",
       "      <td>1.8</td>\n",
       "      <td>4.6</td>\n",
       "    </tr>\n",
       "    <tr>\n",
       "      <th>2013-03-06</th>\n",
       "      <td>7.9</td>\n",
       "      <td>0.9</td>\n",
       "      <td>14.3</td>\n",
       "    </tr>\n",
       "    <tr>\n",
       "      <th>2014-03-06</th>\n",
       "      <td>0.3</td>\n",
       "      <td>-3.0</td>\n",
       "      <td>5.0</td>\n",
       "    </tr>\n",
       "    <tr>\n",
       "      <th>2015-03-06</th>\n",
       "      <td>2.9</td>\n",
       "      <td>-3.2</td>\n",
       "      <td>10.4</td>\n",
       "    </tr>\n",
       "    <tr>\n",
       "      <th>2016-03-06</th>\n",
       "      <td>7.9</td>\n",
       "      <td>4.3</td>\n",
       "      <td>12.9</td>\n",
       "    </tr>\n",
       "    <tr>\n",
       "      <th>2017-03-06</th>\n",
       "      <td>0.1</td>\n",
       "      <td>-2.8</td>\n",
       "      <td>4.0</td>\n",
       "    </tr>\n",
       "    <tr>\n",
       "      <th>2018-03-06</th>\n",
       "      <td>4.5</td>\n",
       "      <td>-1.1</td>\n",
       "      <td>10.9</td>\n",
       "    </tr>\n",
       "    <tr>\n",
       "      <th>2019-03-06</th>\n",
       "      <td>8.4</td>\n",
       "      <td>5.7</td>\n",
       "      <td>12.4</td>\n",
       "    </tr>\n",
       "    <tr>\n",
       "      <th>2020-03-06</th>\n",
       "      <td>3.7</td>\n",
       "      <td>-2.5</td>\n",
       "      <td>10.1</td>\n",
       "    </tr>\n",
       "    <tr>\n",
       "      <th>2021-03-06</th>\n",
       "      <td>6.6</td>\n",
       "      <td>3.2</td>\n",
       "      <td>11.6</td>\n",
       "    </tr>\n",
       "    <tr>\n",
       "      <th>2022-03-06</th>\n",
       "      <td>1.4</td>\n",
       "      <td>-3.0</td>\n",
       "      <td>6.8</td>\n",
       "    </tr>\n",
       "  </tbody>\n",
       "</table>\n",
       "</div>"
      ],
      "text/plain": [
       "            평균기온(℃)  최저기온(℃)  최고기온(℃)\n",
       "날짜                                   \n",
       "2003-03-06      3.4      1.7      4.1\n",
       "2004-03-06     -3.4     -5.0     -0.8\n",
       "2005-03-06      0.5     -3.5      5.1\n",
       "2006-03-06      5.9      0.6     12.1\n",
       "2007-03-06     -5.0     -7.6     -1.6\n",
       "2008-03-06      4.3      1.5      7.8\n",
       "2009-03-06      1.6     -1.9      4.0\n",
       "2010-03-06      6.0      2.0     10.7\n",
       "2011-03-06      3.4      1.2      7.4\n",
       "2012-03-06      3.0      1.8      4.6\n",
       "2013-03-06      7.9      0.9     14.3\n",
       "2014-03-06      0.3     -3.0      5.0\n",
       "2015-03-06      2.9     -3.2     10.4\n",
       "2016-03-06      7.9      4.3     12.9\n",
       "2017-03-06      0.1     -2.8      4.0\n",
       "2018-03-06      4.5     -1.1     10.9\n",
       "2019-03-06      8.4      5.7     12.4\n",
       "2020-03-06      3.7     -2.5     10.1\n",
       "2021-03-06      6.6      3.2     11.6\n",
       "2022-03-06      1.4     -3.0      6.8"
      ]
     },
     "execution_count": 20,
     "metadata": {},
     "output_type": "execute_result"
    }
   ],
   "source": [
    "birth=df[df.index.str[5:]=='03-06']\n",
    "birth.tail(20)"
   ]
  },
  {
   "cell_type": "code",
   "execution_count": 21,
   "metadata": {},
   "outputs": [
    {
     "data": {
      "text/plain": [
       "'2013-03-06'"
      ]
     },
     "execution_count": 21,
     "metadata": {},
     "output_type": "execute_result"
    }
   ],
   "source": [
    "birth['최고기온(℃)'].idxmax()"
   ]
  },
  {
   "cell_type": "code",
   "execution_count": 22,
   "metadata": {},
   "outputs": [
    {
     "data": {
      "text/plain": [
       "[7.9,\n",
       " 3.4,\n",
       " 2.0,\n",
       " 7.4,\n",
       " 10.0,\n",
       " 3.6,\n",
       " 14.1,\n",
       " 6.0,\n",
       " 2.5,\n",
       " 3.3,\n",
       " 9.6,\n",
       " 10.0,\n",
       " 4.0,\n",
       " 8.5,\n",
       " 8.3,\n",
       " 6.5,\n",
       " 1.6,\n",
       " -1.6,\n",
       " 9.8,\n",
       " 7.7,\n",
       " 6.6,\n",
       " 9.4,\n",
       " 8.5,\n",
       " 7.6,\n",
       " 12.6,\n",
       " -4.0,\n",
       " 4.1,\n",
       " 8.4,\n",
       " 2.0,\n",
       " 6.2,\n",
       " 10.0,\n",
       " 6.7,\n",
       " 9.9,\n",
       " 2.5,\n",
       " 8.2,\n",
       " 9.6,\n",
       " 1.8,\n",
       " -2.0,\n",
       " 3.4,\n",
       " 2.7,\n",
       " 0.5,\n",
       " 8.2,\n",
       " 11.2,\n",
       " 1.2,\n",
       " 3.1,\n",
       " 4.1,\n",
       " 1.4,\n",
       " 7.7,\n",
       " 9.0,\n",
       " 11.1,\n",
       " 9.0,\n",
       " 6.2,\n",
       " 7.4,\n",
       " 9.6,\n",
       " 0.2,\n",
       " 5.1,\n",
       " 1.7,\n",
       " 6.4,\n",
       " 5.0,\n",
       " 1.6,\n",
       " -4.0,\n",
       " 8.5,\n",
       " 2.8,\n",
       " 13.4,\n",
       " 5.8,\n",
       " 10.2,\n",
       " 11.1,\n",
       " 13.6,\n",
       " 7.5,\n",
       " 11.4,\n",
       " 3.2,\n",
       " 2.8,\n",
       " 7.9,\n",
       " 5.3,\n",
       " 1.9,\n",
       " 12.2,\n",
       " 4.6,\n",
       " 2.5,\n",
       " 2.3,\n",
       " 10.1,\n",
       " 11.1,\n",
       " 6.9,\n",
       " 8.3,\n",
       " 13.4,\n",
       " 11.6,\n",
       " 10.1,\n",
       " 8.0,\n",
       " 14.0,\n",
       " 10.5,\n",
       " 6.8,\n",
       " 8.1,\n",
       " 4.6,\n",
       " 4.1,\n",
       " -0.8,\n",
       " 5.1,\n",
       " 12.1,\n",
       " -1.6,\n",
       " 7.8,\n",
       " 4.0,\n",
       " 10.7,\n",
       " 7.4,\n",
       " 4.6,\n",
       " 14.3,\n",
       " 5.0,\n",
       " 10.4,\n",
       " 12.9,\n",
       " 4.0,\n",
       " 10.9,\n",
       " 12.4,\n",
       " 10.1,\n",
       " 11.6,\n",
       " 6.8]"
      ]
     },
     "execution_count": 22,
     "metadata": {},
     "output_type": "execute_result"
    }
   ],
   "source": [
    "max_temp=list(birth['최고기온(℃)'])\n",
    "max_temp"
   ]
  },
  {
   "cell_type": "code",
   "execution_count": 23,
   "metadata": {},
   "outputs": [
    {
     "data": {
      "image/png": "[encoded data removed]",
      "text/plain": [
       "<Figure size 432x288 with 1 Axes>"
      ]
     },
     "metadata": {
      "needs_background": "light"
     },
     "output_type": "display_data"
    }
   ],
   "source": [
    "import matplotlib.pyplot as plt\n",
    "\n",
    "#max_temp=list(birth['최고기온(℃)'])\n",
    "\n",
    "plt.plot(max_temp, 'hotpink')\n",
    "\n",
    "plt.show()"
   ]
  },
  {
   "cell_type": "markdown",
   "metadata": {},
   "source": [
    "#### 내 생일의 최고기온과 최저기온  3개씩 추출하기 (높은 순, 낮은순)"
   ]
  },
  {
   "cell_type": "code",
   "execution_count": null,
   "metadata": {},
   "outputs": [],
   "source": [
    "birth['최고기온(℃)'].nlargest(3)"
   ]
  },
  {
   "cell_type": "code",
   "execution_count": null,
   "metadata": {},
   "outputs": [],
   "source": [
    "birth['최저기온(℃)'].nsmallest(3)"
   ]
  },
  {
   "cell_type": "code",
   "execution_count": null,
   "metadata": {},
   "outputs": [],
   "source": [
    "import matplotlib.pyplot as plt\n",
    "\n",
    "max_temp=list(birth['최고기온(℃)'])\n",
    "min_temp=list(birth['최저기온(℃)'])\n",
    "\n",
    "plt.plot(max_temp, 'hotpink')\n",
    "plt.plot(min_temp, 'skyblue')\n",
    "\n",
    "plt.show()"
   ]
  },
  {
   "cell_type": "markdown",
   "metadata": {},
   "source": [
    "###  파이썬 그래프 한글이 깨질때&마이너스 부호 사용"
   ]
  },
  {
   "cell_type": "code",
   "execution_count": 24,
   "metadata": {},
   "outputs": [],
   "source": [
    "import matplotlib\n",
    "from matplotlib import font_manager, rc\n",
    "import platform\n",
    "\n",
    "if platform.system() == 'Windows':\n",
    "# 윈도우인 경우\n",
    "    font_name = font_manager.FontProperties(fname=\"c:/Windows/Fonts/malgun.ttf\").get_name()\n",
    "    rc('font', family=font_name)\n",
    "else:    \n",
    "# Mac 인 경우\n",
    "    rc('font', family='AppleGothic')\n",
    "    \n",
    "matplotlib.rcParams['axes.unicode_minus'] = False   \n",
    "#그래프에서 마이너스 기호가 표시되도록 하는 설정입니다."
   ]
  },
  {
   "cell_type": "code",
   "execution_count": 25,
   "metadata": {},
   "outputs": [
    {
     "data": {
      "text/html": [
       "<div>\n",
       "<style scoped>\n",
       "    .dataframe tbody tr th:only-of-type {\n",
       "        vertical-align: middle;\n",
       "    }\n",
       "\n",
       "    .dataframe tbody tr th {\n",
       "        vertical-align: top;\n",
       "    }\n",
       "\n",
       "    .dataframe thead th {\n",
       "        text-align: right;\n",
       "    }\n",
       "</style>\n",
       "<table border=\"1\" class=\"dataframe\">\n",
       "  <thead>\n",
       "    <tr style=\"text-align: right;\">\n",
       "      <th></th>\n",
       "      <th>평균기온(℃)</th>\n",
       "      <th>최저기온(℃)</th>\n",
       "      <th>최고기온(℃)</th>\n",
       "    </tr>\n",
       "    <tr>\n",
       "      <th>날짜</th>\n",
       "      <th></th>\n",
       "      <th></th>\n",
       "      <th></th>\n",
       "    </tr>\n",
       "  </thead>\n",
       "  <tbody>\n",
       "    <tr>\n",
       "      <th>2000-03-06</th>\n",
       "      <td>2.7</td>\n",
       "      <td>-1.6</td>\n",
       "      <td>6.8</td>\n",
       "    </tr>\n",
       "    <tr>\n",
       "      <th>2001-03-06</th>\n",
       "      <td>3.4</td>\n",
       "      <td>0.5</td>\n",
       "      <td>8.1</td>\n",
       "    </tr>\n",
       "    <tr>\n",
       "      <th>2002-03-06</th>\n",
       "      <td>1.8</td>\n",
       "      <td>-0.9</td>\n",
       "      <td>4.6</td>\n",
       "    </tr>\n",
       "    <tr>\n",
       "      <th>2003-03-06</th>\n",
       "      <td>3.4</td>\n",
       "      <td>1.7</td>\n",
       "      <td>4.1</td>\n",
       "    </tr>\n",
       "    <tr>\n",
       "      <th>2004-03-06</th>\n",
       "      <td>-3.4</td>\n",
       "      <td>-5.0</td>\n",
       "      <td>-0.8</td>\n",
       "    </tr>\n",
       "    <tr>\n",
       "      <th>2005-03-06</th>\n",
       "      <td>0.5</td>\n",
       "      <td>-3.5</td>\n",
       "      <td>5.1</td>\n",
       "    </tr>\n",
       "    <tr>\n",
       "      <th>2006-03-06</th>\n",
       "      <td>5.9</td>\n",
       "      <td>0.6</td>\n",
       "      <td>12.1</td>\n",
       "    </tr>\n",
       "    <tr>\n",
       "      <th>2007-03-06</th>\n",
       "      <td>-5.0</td>\n",
       "      <td>-7.6</td>\n",
       "      <td>-1.6</td>\n",
       "    </tr>\n",
       "    <tr>\n",
       "      <th>2008-03-06</th>\n",
       "      <td>4.3</td>\n",
       "      <td>1.5</td>\n",
       "      <td>7.8</td>\n",
       "    </tr>\n",
       "    <tr>\n",
       "      <th>2009-03-06</th>\n",
       "      <td>1.6</td>\n",
       "      <td>-1.9</td>\n",
       "      <td>4.0</td>\n",
       "    </tr>\n",
       "    <tr>\n",
       "      <th>2010-03-06</th>\n",
       "      <td>6.0</td>\n",
       "      <td>2.0</td>\n",
       "      <td>10.7</td>\n",
       "    </tr>\n",
       "    <tr>\n",
       "      <th>2011-03-06</th>\n",
       "      <td>3.4</td>\n",
       "      <td>1.2</td>\n",
       "      <td>7.4</td>\n",
       "    </tr>\n",
       "    <tr>\n",
       "      <th>2012-03-06</th>\n",
       "      <td>3.0</td>\n",
       "      <td>1.8</td>\n",
       "      <td>4.6</td>\n",
       "    </tr>\n",
       "    <tr>\n",
       "      <th>2013-03-06</th>\n",
       "      <td>7.9</td>\n",
       "      <td>0.9</td>\n",
       "      <td>14.3</td>\n",
       "    </tr>\n",
       "    <tr>\n",
       "      <th>2014-03-06</th>\n",
       "      <td>0.3</td>\n",
       "      <td>-3.0</td>\n",
       "      <td>5.0</td>\n",
       "    </tr>\n",
       "    <tr>\n",
       "      <th>2015-03-06</th>\n",
       "      <td>2.9</td>\n",
       "      <td>-3.2</td>\n",
       "      <td>10.4</td>\n",
       "    </tr>\n",
       "    <tr>\n",
       "      <th>2016-03-06</th>\n",
       "      <td>7.9</td>\n",
       "      <td>4.3</td>\n",
       "      <td>12.9</td>\n",
       "    </tr>\n",
       "    <tr>\n",
       "      <th>2017-03-06</th>\n",
       "      <td>0.1</td>\n",
       "      <td>-2.8</td>\n",
       "      <td>4.0</td>\n",
       "    </tr>\n",
       "    <tr>\n",
       "      <th>2018-03-06</th>\n",
       "      <td>4.5</td>\n",
       "      <td>-1.1</td>\n",
       "      <td>10.9</td>\n",
       "    </tr>\n",
       "    <tr>\n",
       "      <th>2019-03-06</th>\n",
       "      <td>8.4</td>\n",
       "      <td>5.7</td>\n",
       "      <td>12.4</td>\n",
       "    </tr>\n",
       "    <tr>\n",
       "      <th>2020-03-06</th>\n",
       "      <td>3.7</td>\n",
       "      <td>-2.5</td>\n",
       "      <td>10.1</td>\n",
       "    </tr>\n",
       "    <tr>\n",
       "      <th>2021-03-06</th>\n",
       "      <td>6.6</td>\n",
       "      <td>3.2</td>\n",
       "      <td>11.6</td>\n",
       "    </tr>\n",
       "    <tr>\n",
       "      <th>2022-03-06</th>\n",
       "      <td>1.4</td>\n",
       "      <td>-3.0</td>\n",
       "      <td>6.8</td>\n",
       "    </tr>\n",
       "  </tbody>\n",
       "</table>\n",
       "</div>"
      ],
      "text/plain": [
       "            평균기온(℃)  최저기온(℃)  최고기온(℃)\n",
       "날짜                                   \n",
       "2000-03-06      2.7     -1.6      6.8\n",
       "2001-03-06      3.4      0.5      8.1\n",
       "2002-03-06      1.8     -0.9      4.6\n",
       "2003-03-06      3.4      1.7      4.1\n",
       "2004-03-06     -3.4     -5.0     -0.8\n",
       "2005-03-06      0.5     -3.5      5.1\n",
       "2006-03-06      5.9      0.6     12.1\n",
       "2007-03-06     -5.0     -7.6     -1.6\n",
       "2008-03-06      4.3      1.5      7.8\n",
       "2009-03-06      1.6     -1.9      4.0\n",
       "2010-03-06      6.0      2.0     10.7\n",
       "2011-03-06      3.4      1.2      7.4\n",
       "2012-03-06      3.0      1.8      4.6\n",
       "2013-03-06      7.9      0.9     14.3\n",
       "2014-03-06      0.3     -3.0      5.0\n",
       "2015-03-06      2.9     -3.2     10.4\n",
       "2016-03-06      7.9      4.3     12.9\n",
       "2017-03-06      0.1     -2.8      4.0\n",
       "2018-03-06      4.5     -1.1     10.9\n",
       "2019-03-06      8.4      5.7     12.4\n",
       "2020-03-06      3.7     -2.5     10.1\n",
       "2021-03-06      6.6      3.2     11.6\n",
       "2022-03-06      1.4     -3.0      6.8"
      ]
     },
     "execution_count": 25,
     "metadata": {},
     "output_type": "execute_result"
    }
   ],
   "source": [
    "birth['2000-03-06':]   # 2000년 이후 "
   ]
  },
  {
   "cell_type": "code",
   "execution_count": 27,
   "metadata": {},
   "outputs": [
    {
     "data": {
      "text/html": [
       "<div>\n",
       "<style scoped>\n",
       "    .dataframe tbody tr th:only-of-type {\n",
       "        vertical-align: middle;\n",
       "    }\n",
       "\n",
       "    .dataframe tbody tr th {\n",
       "        vertical-align: top;\n",
       "    }\n",
       "\n",
       "    .dataframe thead th {\n",
       "        text-align: right;\n",
       "    }\n",
       "</style>\n",
       "<table border=\"1\" class=\"dataframe\">\n",
       "  <thead>\n",
       "    <tr style=\"text-align: right;\">\n",
       "      <th></th>\n",
       "      <th>평균기온(℃)</th>\n",
       "      <th>최저기온(℃)</th>\n",
       "      <th>최고기온(℃)</th>\n",
       "    </tr>\n",
       "    <tr>\n",
       "      <th>날짜</th>\n",
       "      <th></th>\n",
       "      <th></th>\n",
       "      <th></th>\n",
       "    </tr>\n",
       "  </thead>\n",
       "  <tbody>\n",
       "    <tr>\n",
       "      <th>2000-03-06</th>\n",
       "      <td>2.7</td>\n",
       "      <td>-1.6</td>\n",
       "      <td>6.8</td>\n",
       "    </tr>\n",
       "    <tr>\n",
       "      <th>2001-03-06</th>\n",
       "      <td>3.4</td>\n",
       "      <td>0.5</td>\n",
       "      <td>8.1</td>\n",
       "    </tr>\n",
       "    <tr>\n",
       "      <th>2002-03-06</th>\n",
       "      <td>1.8</td>\n",
       "      <td>-0.9</td>\n",
       "      <td>4.6</td>\n",
       "    </tr>\n",
       "    <tr>\n",
       "      <th>2003-03-06</th>\n",
       "      <td>3.4</td>\n",
       "      <td>1.7</td>\n",
       "      <td>4.1</td>\n",
       "    </tr>\n",
       "    <tr>\n",
       "      <th>2004-03-06</th>\n",
       "      <td>-3.4</td>\n",
       "      <td>-5.0</td>\n",
       "      <td>-0.8</td>\n",
       "    </tr>\n",
       "  </tbody>\n",
       "</table>\n",
       "</div>"
      ],
      "text/plain": [
       "            평균기온(℃)  최저기온(℃)  최고기온(℃)\n",
       "날짜                                   \n",
       "2000-03-06      2.7     -1.6      6.8\n",
       "2001-03-06      3.4      0.5      8.1\n",
       "2002-03-06      1.8     -0.9      4.6\n",
       "2003-03-06      3.4      1.7      4.1\n",
       "2004-03-06     -3.4     -5.0     -0.8"
      ]
     },
     "execution_count": 27,
     "metadata": {},
     "output_type": "execute_result"
    }
   ],
   "source": [
    "my_birth=birth['2000-03-06':]\n",
    "my_birth.head()"
   ]
  },
  {
   "cell_type": "code",
   "execution_count": null,
   "metadata": {},
   "outputs": [],
   "source": [
    "len(my_birth)"
   ]
  },
  {
   "cell_type": "code",
   "execution_count": null,
   "metadata": {},
   "outputs": [],
   "source": [
    "list(range(len(my_birth)))"
   ]
  },
  {
   "cell_type": "code",
   "execution_count": 29,
   "metadata": {},
   "outputs": [
    {
     "data": {
      "image/png": "[encoded data removed]",
      "text/plain": [
       "<Figure size 720x360 with 1 Axes>"
      ]
     },
     "metadata": {
      "needs_background": "light"
     },
     "output_type": "display_data"
    }
   ],
   "source": [
    "import matplotlib.pyplot as plt\n",
    "plt.figure(figsize=(10,5))\n",
    "max_temp=list(my_birth['최고기온(℃)'])\n",
    "min_temp=list(my_birth['최저기온(℃)'])\n",
    "\n",
    "plt.title('내 생일의 기온 변화 그래프')       # 제목 설정\n",
    "plt.plot(max_temp, 'hotpink', label = 'high') # 레이블 표시\n",
    "plt.plot(min_temp, 'skyblue', label = 'low')  # 레이블 표시\n",
    "plt.legend()    # 범례 표시\n",
    "plt.xlabel('age')\n",
    "plt.ylabel('temp')\n",
    "plt.xticks(range(len(my_birth)))\n",
    "plt.show()"
   ]
  },
  {
   "cell_type": "code",
   "execution_count": null,
   "metadata": {},
   "outputs": [],
   "source": []
  }
 ],
 "metadata": {
  "kernelspec": {
   "display_name": "Python 3 (ipykernel)",
   "language": "python",
   "name": "python3"
  },
  "language_info": {
   "codemirror_mode": {
    "name": "ipython",
    "version": 3
   },
   "file_extension": ".py",
   "mimetype": "text/x-python",
   "name": "python",
   "nbconvert_exporter": "python",
   "pygments_lexer": "ipython3",
   "version": "3.9.12"
  }
 },
 "nbformat": 4,
 "nbformat_minor": 4
}
