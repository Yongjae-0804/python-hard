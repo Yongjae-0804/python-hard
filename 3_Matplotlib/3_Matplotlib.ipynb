{
 "cells": [
  {
   "cell_type": "markdown",
   "metadata": {
    "id": "9L1xBQGK2w0Q"
   },
   "source": [
    "## 가장 기본적인 시각화 라이브러리 matplotlib"
   ]
  },
  {
   "cell_type": "code",
   "execution_count": null,
   "metadata": {},
   "outputs": [],
   "source": [
    "# https://wikidocs.net/137913"
   ]
  },
  {
   "cell_type": "code",
   "execution_count": null,
   "metadata": {},
   "outputs": [],
   "source": [
    "import matplotlib.pyplot as plt"
   ]
  },
  {
   "cell_type": "code",
   "execution_count": null,
   "metadata": {
    "executionInfo": {
     "elapsed": 880,
     "status": "ok",
     "timestamp": 1604335647127,
     "user": {
      "displayName": "youn nk",
      "photoUrl": "",
      "userId": "17456473382285982783"
     },
     "user_tz": -540
    },
    "id": "oxH7R89B2w0Q"
   },
   "outputs": [],
   "source": [
    "import matplotlib.pyplot as plt\n",
    "plt.plot([10,20,30,40],[35,24,57,30])   #(x축데이터, y축데이터)\n",
    "plt.show()"
   ]
  },
  {
   "cell_type": "code",
   "execution_count": null,
   "metadata": {},
   "outputs": [],
   "source": [
    "import matplotlib.pyplot as plt\n",
    "\n",
    "plt.plot([35,24,57,30])   #(y축데이터)\n",
    "plt.show()"
   ]
  },
  {
   "cell_type": "code",
   "execution_count": null,
   "metadata": {
    "colab": {
     "base_uri": "https://localhost:8080/",
     "height": 265
    },
    "executionInfo": {
     "elapsed": 984,
     "status": "ok",
     "timestamp": 1604335651917,
     "user": {
      "displayName": "youn nk",
      "photoUrl": "",
      "userId": "17456473382285982783"
     },
     "user_tz": -540
    },
    "id": "Syn1GfYI2w0T",
    "outputId": "533a3aab-571b-4844-ac52-2c8c469796a8"
   },
   "outputs": [],
   "source": [
    "import matplotlib.pyplot as plt\n",
    "plt.figure(figsize=(5,3))    # 도화지 생성\n",
    "plt.plot([1,2,3,8,3,2,1])    # 데이터를 하나만 넣으면 y축으로 설정된다.\n",
    "                             # x축은 자동으로 0, 1, 2, 3, 4, ... 생성\n",
    "plt.show()                   # 완성된 그림을 출력"
   ]
  },
  {
   "cell_type": "code",
   "execution_count": null,
   "metadata": {},
   "outputs": [],
   "source": [
    "# 우리나라 연간 1인당 국민소득을 각각 years, gdp에 저장\n",
    "import numpy as np\n",
    "years=np.arange(1950,2021,10)\n",
    "gdp=[67, 80, 257, 1686, 6505, 11865.3, 22105.3, 31497]\n",
    "\n",
    "plt.plot(years, gdp, color='green', marker='o', linestyle='solid')\n",
    "\n",
    "plt.title(\"GDP per capita\")\n",
    "plt.ylabel(\"dollars\")\n",
    "plt.show()"
   ]
  },
  {
   "cell_type": "code",
   "execution_count": null,
   "metadata": {
    "executionInfo": {
     "elapsed": 996,
     "status": "ok",
     "timestamp": 1604335656108,
     "user": {
      "displayName": "youn nk",
      "photoUrl": "",
      "userId": "17456473382285982783"
     },
     "user_tz": -540
    },
    "id": "GW6lHq2h2w0W"
   },
   "outputs": [],
   "source": [
    "import numpy as np\n",
    "x = np.arange(0,12,0.01)         # x축 0~12까지 0.01간격\n",
    "y = np.sin(x)                    # x데이터를 sin함수에 대입"
   ]
  },
  {
   "cell_type": "code",
   "execution_count": null,
   "metadata": {
    "colab": {
     "base_uri": "https://localhost:8080/",
     "height": 241
    },
    "executionInfo": {
     "elapsed": 919,
     "status": "ok",
     "timestamp": 1604335658455,
     "user": {
      "displayName": "youn nk",
      "photoUrl": "",
      "userId": "17456473382285982783"
     },
     "user_tz": -540
    },
    "id": "N37G3Khb2w0Y",
    "outputId": "1bf919c8-7602-4e28-a5f7-0185dedcbc5a"
   },
   "outputs": [],
   "source": [
    "plt.plot(x,y)                    # 사인파를 그린다.\n",
    "plt.grid()                       # 격자를 생성\n",
    "plt.xlabel('time')               # x축의 이름 설정\n",
    "plt.ylabel('amplitude')          # y축의 이름 설정\n",
    "plt.title('Sine wave')           # 그림의 제목을 설정\n",
    "plt.show()                       # 그림을 출력"
   ]
  },
  {
   "cell_type": "code",
   "execution_count": null,
   "metadata": {
    "colab": {
     "base_uri": "https://localhost:8080/",
     "height": 241
    },
    "executionInfo": {
     "elapsed": 935,
     "status": "ok",
     "timestamp": 1604335673991,
     "user": {
      "displayName": "youn nk",
      "photoUrl": "",
      "userId": "17456473382285982783"
     },
     "user_tz": -540
    },
    "id": "46qhqtBX2w0b",
    "outputId": "9e032280-8a56-48b8-ad29-dcc80fb660c1"
   },
   "outputs": [],
   "source": [
    "plt.plot(x,y, lw=8, label='Sin')     # 첫번째 그래프 - sin파\n",
    "plt.plot(x,  np.cos(x), label='Cos') # 두번째 그래프 - cos파\n",
    "\n",
    "plt.grid()\n",
    "plt.xlabel('time')\n",
    "plt.ylabel('amplitude')\n",
    "plt.title('Sine wave')\n",
    "plt.legend()         # 설정한 label을 기반으로 범례생성\n",
    "\n",
    "plt.xlim(0,4)        # x축의 범위를 설정 \n",
    "plt.ylim(-0.5,1)     # y축의 범위를 설정 \n",
    "plt.show()"
   ]
  },
  {
   "cell_type": "code",
   "execution_count": null,
   "metadata": {
    "executionInfo": {
     "elapsed": 805,
     "status": "ok",
     "timestamp": 1604335702640,
     "user": {
      "displayName": "youn nk",
      "photoUrl": "",
      "userId": "17456473382285982783"
     },
     "user_tz": -540
    },
    "id": "1jSYxPa82w0e"
   },
   "outputs": [],
   "source": [
    "x = [0, 1, 2, 3, 4, 5, 6]\n",
    "y = [1, 5, 2, 6, 4, 3, 3]"
   ]
  },
  {
   "cell_type": "code",
   "execution_count": null,
   "metadata": {
    "colab": {
     "base_uri": "https://localhost:8080/",
     "height": 241
    },
    "executionInfo": {
     "elapsed": 868,
     "status": "ok",
     "timestamp": 1604335705156,
     "user": {
      "displayName": "youn nk",
      "photoUrl": "",
      "userId": "17456473382285982783"
     },
     "user_tz": -540
    },
    "id": "M17SXU_u2w0g",
    "outputId": "ccca83ce-7563-4725-dbff-001f3f5253e8"
   },
   "outputs": [],
   "source": [
    "plt.figure(figsize=(5,3))\n",
    "#plt.plot(x,y, 'rs-', lw=1, markerfacecolor='blue' ,label='Sin')\n",
    "plt.plot(x,y, 'go-', lw=1, markerfacecolor='yellow' ,label='Sin')\n",
    "plt.grid()\n",
    "plt.xlabel('time')\n",
    "plt.ylabel('amplitude')\n",
    "plt.title('Sinewave')\n",
    "plt.legend()\n",
    "plt.show()"
   ]
  },
  {
   "cell_type": "markdown",
   "metadata": {},
   "source": [
    "###  막대 그래프"
   ]
  },
  {
   "cell_type": "code",
   "execution_count": null,
   "metadata": {
    "id": "NdtUMtHO2w0j"
   },
   "outputs": [],
   "source": [
    "import matplotlib.pyplot as plt\n",
    "y=[100,120,130,140,80,150]\n",
    "x=range(len(y))\n",
    "plt.bar(x,y, width=0.5, color='orange')\n",
    "plt.show()"
   ]
  },
  {
   "cell_type": "code",
   "execution_count": null,
   "metadata": {},
   "outputs": [],
   "source": [
    "import matplotlib.pyplot as plt\n",
    "\n",
    "y=[100,120,130,140,80,150]\n",
    "x=range(len(y))\n",
    "plt.barh(x,y, height=0.5, color='pink')\n",
    "plt.show()"
   ]
  },
  {
   "cell_type": "code",
   "execution_count": null,
   "metadata": {},
   "outputs": [],
   "source": [
    "import matplotlib.pyplot as plt\n",
    "import numpy as np\n",
    "\n",
    "x=[1,2,3,4]\n",
    "a=np.array([10,15,20,25])\n",
    "b=np.array([50,55,60,65])\n",
    "c=np.array([100,105,110,115])\n",
    "\n",
    "plt.bar(x,a,color='pink')\n",
    "plt.bar(x,b,color='g', bottom=  a  )\n",
    "plt.bar(x,c,color='y', bottom=  a+b  )"
   ]
  },
  {
   "cell_type": "code",
   "execution_count": null,
   "metadata": {},
   "outputs": [],
   "source": [
    "import matplotlib.pyplot as plt\n",
    "\n",
    "y=[100,120,130,140,80,150]\n",
    "x=range(len(y))\n",
    "plt.bar(x,y, width=0.5, color='orange')\n",
    "plt.show()\n",
    "plt.barh(x,y, height=0.5, color='pink')\n",
    "plt.show()"
   ]
  },
  {
   "cell_type": "code",
   "execution_count": null,
   "metadata": {},
   "outputs": [],
   "source": [
    "import matplotlib.pyplot as plt\n",
    "\n",
    "y=[100,120,130,140,80,150]\n",
    "x=range(len(y))\n",
    "\n",
    "#plt.figure(figsize=(12,4))\n",
    "\n",
    "plt.subplot(1,2,1)\n",
    "plt.title(\"img1\")\n",
    "plt.bar(x,y, width=0.5, color='orange')\n",
    "\n",
    "plt.subplot(1,2,2)\n",
    "plt.title(\"img2\")\n",
    "plt.barh(x,y, height=0.5, color='pink')\n",
    "plt.show()"
   ]
  },
  {
   "cell_type": "markdown",
   "metadata": {},
   "source": [
    "### 원 그래프 그리기"
   ]
  },
  {
   "cell_type": "code",
   "execution_count": null,
   "metadata": {},
   "outputs": [],
   "source": [
    "import matplotlib.pyplot as plt\n",
    "\n",
    "ratio = [30,20,15,25,10]\n",
    "plt.pie(ratio)\n",
    "plt.show()"
   ]
  },
  {
   "cell_type": "code",
   "execution_count": null,
   "metadata": {},
   "outputs": [],
   "source": [
    "import matplotlib.pyplot as plt\n",
    "\n",
    "ratio = [1,2,3,4,5]\n",
    "plt.pie(ratio)\n",
    "plt.show()"
   ]
  },
  {
   "cell_type": "code",
   "execution_count": null,
   "metadata": {},
   "outputs": [],
   "source": [
    "import matplotlib.pyplot as plt\n",
    "\n",
    "ratio = [34, 32, 16, 18]\n",
    "labels = ['Apple', 'Banana', 'Melon', 'Grapes']\n",
    "\n",
    "plt.pie(ratio, labels=labels, autopct='%.1f%%')\n",
    "plt.show()"
   ]
  },
  {
   "cell_type": "markdown",
   "metadata": {},
   "source": [
    "#### 시작 각도와 방향 설정하기"
   ]
  },
  {
   "cell_type": "code",
   "execution_count": null,
   "metadata": {},
   "outputs": [],
   "source": [
    "import matplotlib.pyplot as plt\n",
    "\n",
    "ratio = [34, 32, 16, 18]\n",
    "labels = ['Apple', 'Banana', 'Melon', 'Grapes']\n",
    "\n",
    "plt.pie(ratio, labels=labels, autopct='%.1f%%', \n",
    "        startangle=260, counterclock=False)      # counterclock=False 시계방향\n",
    "plt.show()"
   ]
  },
  {
   "cell_type": "markdown",
   "metadata": {},
   "source": [
    "#### 중심에서 벗어나는 정도 설정하기"
   ]
  },
  {
   "cell_type": "code",
   "execution_count": null,
   "metadata": {},
   "outputs": [],
   "source": [
    "import matplotlib.pyplot as plt\n",
    "\n",
    "ratio = [34, 32, 16, 18]\n",
    "labels = ['Apple', 'Banana', 'Melon', 'Grapes']\n",
    "explode = [0,  0.1,  0,  0.1]\n",
    "\n",
    "plt.pie(ratio, labels=labels, autopct='%.1f%%', \n",
    "        startangle=260, counterclock=False, \n",
    "        explode=explode)\n",
    "plt.show()"
   ]
  },
  {
   "cell_type": "markdown",
   "metadata": {},
   "source": [
    "#### 색상 지정하기"
   ]
  },
  {
   "cell_type": "code",
   "execution_count": null,
   "metadata": {},
   "outputs": [],
   "source": [
    "import matplotlib.pyplot as plt\n",
    "\n",
    "ratio = [34, 32, 16, 18]\n",
    "labels = ['Apple', 'Banana', 'Melon', 'Grapes']\n",
    "explode = [0.05, 0.05, 0.05, 0.05]\n",
    "#colors = ['silver', 'gold', 'whitesmoke', 'lightgray']\n",
    "colors = ['#ff9999', '#ffc000', '#8fd9b6', '#d395d0']\n",
    "\n",
    "plt.pie(ratio, labels=labels, autopct='%.1f%%',\n",
    "        startangle=260, counterclock=False,\n",
    "        explode=explode, colors=colors)\n",
    "plt.show()"
   ]
  },
  {
   "cell_type": "code",
   "execution_count": null,
   "metadata": {},
   "outputs": [],
   "source": [
    "import matplotlib.pyplot as plt\n",
    "\n",
    "ratio = [34, 32, 16, 18]\n",
    "labels = ['Apple', 'Banana', 'Melon', 'Grapes']\n",
    "colors = ['#ff9999', '#ffc000', '#8fd9b6', '#d395d0']\n",
    "wedgeprops={'width': 0.5, 'edgecolor': 'w', 'linewidth': 10}\n",
    "\n",
    "plt.pie(ratio, labels=labels, autopct='%.1f%%',\n",
    "        startangle=260, counterclock=False,\n",
    "        colors=colors, wedgeprops=wedgeprops)\n",
    "plt.show()"
   ]
  },
  {
   "cell_type": "markdown",
   "metadata": {},
   "source": [
    "#### 산점도 그리기"
   ]
  },
  {
   "cell_type": "code",
   "execution_count": null,
   "metadata": {},
   "outputs": [],
   "source": [
    "import matplotlib.pyplot as plt\n",
    "import random\n",
    "x=[]\n",
    "y=[]\n",
    "size=[]\n",
    "for i in range(100):\n",
    "    x.append(random.randint(50,100))\n",
    "    y.append(random.randint(50,100))\n",
    "    size.append(random.randint(10,100))\n",
    "    \n",
    "plt.scatter(x,y, s=size)\n",
    "plt.show()"
   ]
  },
  {
   "cell_type": "code",
   "execution_count": null,
   "metadata": {},
   "outputs": [],
   "source": [
    "plt.scatter(x,y,s=size, c=size, cmap='jet')\n",
    "plt.colorbar()\n",
    "plt.show()"
   ]
  },
  {
   "cell_type": "code",
   "execution_count": null,
   "metadata": {},
   "outputs": [],
   "source": [
    "plt.scatter(x, y, s=size,c=size, alpha=0.5,  cmap='Spectral')\n",
    "plt.colorbar()\n",
    "plt.show()\n"
   ]
  }
 ],
 "metadata": {
  "colab": {
   "name": "7. Matplotlib.ipynb",
   "provenance": []
  },
  "kernelspec": {
   "display_name": "Python 3 (ipykernel)",
   "language": "python",
   "name": "python3"
  },
  "language_info": {
   "codemirror_mode": {
    "name": "ipython",
    "version": 3
   },
   "file_extension": ".py",
   "mimetype": "text/x-python",
   "name": "python",
   "nbconvert_exporter": "python",
   "pygments_lexer": "ipython3",
   "version": "3.9.12"
  }
 },
 "nbformat": 4,
 "nbformat_minor": 1
}
