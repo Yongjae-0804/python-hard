{
 "cells": [
  {
   "cell_type": "markdown",
   "id": "bea9bd93",
   "metadata": {},
   "source": [
    "## folium 개요"
   ]
  },
  {
   "cell_type": "markdown",
   "id": "0e0ab9eb",
   "metadata": {},
   "source": [
    "folium: `leaflet.js` 기반으로 만들어진 Python 지도 시각화 라이브러리\n",
    "\n",
    "folium을 사용하여 인터랙티브한 지도를 생성하고 **마커를 추가**하여 시각화하거나 **원으로 범위를 표기**하고 `html` 파일로 내보내기 등을 수행할 수 있다."
   ]
  },
  {
   "cell_type": "markdown",
   "id": "acdfbc37",
   "metadata": {},
   "source": [
    "## folium 설치"
   ]
  },
  {
   "cell_type": "code",
   "execution_count": null,
   "id": "1c7af5c8",
   "metadata": {},
   "outputs": [],
   "source": [
    "!pip install folium"
   ]
  },
  {
   "cell_type": "markdown",
   "id": "564065e1",
   "metadata": {},
   "source": [
    "모듈 import "
   ]
  },
  {
   "cell_type": "code",
   "execution_count": null,
   "id": "70f6bd45",
   "metadata": {},
   "outputs": [],
   "source": [
    "import folium"
   ]
  },
  {
   "cell_type": "markdown",
   "id": "8a1ccbca",
   "metadata": {},
   "source": [
    "## 기본 좌표 설정"
   ]
  },
  {
   "cell_type": "markdown",
   "id": "1a87a5e3",
   "metadata": {},
   "source": [
    "`location`에 입력한 **위,경도 좌표**를 기준으로 지도를 그릴 수 있다.\n",
    "\n",
    "`zoom_start`의 범위는 **최대 18** "
   ]
  },
  {
   "cell_type": "code",
   "execution_count": null,
   "id": "65e2d624",
   "metadata": {},
   "outputs": [],
   "source": [
    "# 위도\n",
    "latitude = 37.555946\n",
    "\n",
    "# 경도\n",
    "longitude = 126.972317"
   ]
  },
  {
   "cell_type": "code",
   "execution_count": null,
   "id": "9ad8f3eb",
   "metadata": {
    "scrolled": false
   },
   "outputs": [],
   "source": [
    "# 코드입력\n",
    "m = folium.Map(location=[latitude, longitude],\n",
    "               zoom_start=17, \n",
    "               width=750, \n",
    "               height=500\n",
    "              )\n",
    "m"
   ]
  },
  {
   "cell_type": "markdown",
   "id": "7126f2fb",
   "metadata": {},
   "source": [
    "## 마커 추가\n",
    "\n",
    "- `location`: 마커를 추가할 **위도/경도 좌표**를 입력 후 \n",
    "- `popup`: 표기할 팝업 문구 지정 (마우스 클릭시 표기되는 문구)\n",
    "- `tooltip`: 표기할 툴팁 지정 (마우스 오버시 표기되는 문구)\n",
    "\n",
    "마커를 생성 후 기존에 생성된 지도 `m`에 추가한다."
   ]
  },
  {
   "cell_type": "code",
   "execution_count": null,
   "id": "4d582a77",
   "metadata": {},
   "outputs": [],
   "source": [
    "# 코드입력\n",
    "folium.Marker([latitude, longitude],\n",
    "              popup=\"서울역\",\n",
    "              tooltip=\"1호선 4호선\").add_to(m)\n",
    "m"
   ]
  },
  {
   "cell_type": "markdown",
   "id": "d98442ba",
   "metadata": {},
   "source": [
    "마커 스타일 변경"
   ]
  },
  {
   "cell_type": "code",
   "execution_count": null,
   "id": "81dbe151",
   "metadata": {},
   "outputs": [],
   "source": [
    "# 코드입력\n",
    "folium.Marker([latitude, longitude],\n",
    "              popup=\"서울역\",\n",
    "              tooltip=\"1호선 4호선\", \n",
    "              icon=folium.Icon('red', icon='star'),\n",
    "             ).add_to(m)\n",
    "m"
   ]
  },
  {
   "cell_type": "code",
   "execution_count": null,
   "id": "93bcf42a",
   "metadata": {},
   "outputs": [],
   "source": [
    "folium.CircleMarker([latitude, longitude],\n",
    "                    color='tomato',\n",
    "                    radius = 50, \n",
    "                    tooltip='서울역 상권').add_to(m)\n",
    "m"
   ]
  },
  {
   "cell_type": "markdown",
   "id": "708136b8",
   "metadata": {},
   "source": [
    "### 데이터셋"
   ]
  },
  {
   "cell_type": "markdown",
   "id": "35dea681",
   "metadata": {},
   "source": [
    "[소상공인 시장 진흥공단 상권정보](https://www.data.go.kr/tcs/dss/selectFileDataDetailView.do?publicDataPk=15083033)"
   ]
  },
  {
   "cell_type": "code",
   "execution_count": null,
   "id": "4201c578",
   "metadata": {},
   "outputs": [],
   "source": [
    "import pandas as pd\n",
    "\n",
    "# 코드입력\n",
    "df = pd.read_csv('상권정보_서울.csv', encoding='cp949')\n",
    "df.head(3)"
   ]
  },
  {
   "cell_type": "markdown",
   "id": "6b379684",
   "metadata": {},
   "source": [
    "컬럼 출력 "
   ]
  },
  {
   "cell_type": "code",
   "execution_count": null,
   "id": "15515563",
   "metadata": {},
   "outputs": [],
   "source": [
    "df.columns"
   ]
  },
  {
   "cell_type": "markdown",
   "id": "e4b0008a",
   "metadata": {},
   "source": [
    "행정동명이 `청파동`, `남영동`, `소공동` 인 지역만 불러온다"
   ]
  },
  {
   "cell_type": "code",
   "execution_count": null,
   "id": "25de0578",
   "metadata": {},
   "outputs": [],
   "source": [
    "df[df['행정동명'].isin(['청파동', '남영동', '소공동'])]"
   ]
  },
  {
   "cell_type": "code",
   "execution_count": null,
   "id": "bf3fb49b",
   "metadata": {},
   "outputs": [],
   "source": [
    "sub_df = df[df['행정동명'].isin(['청파동', '남영동', '소공동'])]\n",
    "sub_df.head(3)"
   ]
  },
  {
   "cell_type": "code",
   "execution_count": null,
   "id": "325cd4f7",
   "metadata": {},
   "outputs": [],
   "source": [
    "df2=sub_df[['위도', '경도', '상호명','행정동명']]\n",
    "df2"
   ]
  },
  {
   "cell_type": "markdown",
   "id": "07f2d881",
   "metadata": {},
   "source": [
    "## 클러스터 생성"
   ]
  },
  {
   "cell_type": "markdown",
   "id": "09b6491b",
   "metadata": {},
   "source": [
    "MarkerCluster 를 이용하면 가까운 거리의 Marker들을 군집시켜서 해당 건수를 표현해준다. 특정 클러스터를 클릭하면 해당 위치를 확대시켜 자세히 들여다볼 수 있다."
   ]
  },
  {
   "cell_type": "code",
   "execution_count": null,
   "id": "c6f0fa77",
   "metadata": {},
   "outputs": [],
   "source": [
    "m = folium.Map(\n",
    "    location=[latitude, longitude], \n",
    "    zoom_start=15\n",
    ")\n",
    "m"
   ]
  },
  {
   "cell_type": "code",
   "execution_count": null,
   "id": "8a9ac698",
   "metadata": {},
   "outputs": [],
   "source": [
    "# 코드입력\n",
    "from folium.plugins import MarkerCluster\n",
    "marker_cluster = MarkerCluster().add_to(m)\n",
    "\n",
    "for i in range(len(df2)):\n",
    "    lat = df2.iloc[i,0]\n",
    "    long = df2.iloc[i,1]\n",
    "    folium.Marker([lat, long] ,\n",
    "                  icon = folium.Icon(color=\"green\")\n",
    "                  ).add_to(marker_cluster)\n",
    "m"
   ]
  },
  {
   "cell_type": "code",
   "execution_count": null,
   "id": "fa11f7b2",
   "metadata": {},
   "outputs": [],
   "source": [
    "from folium.plugins import MarkerCluster\n",
    "marker_cluster = MarkerCluster().add_to(m)\n",
    "\n",
    "for lat, long in zip(df2['위도'], df2['경도']):\n",
    "    folium.Marker([lat, long], \n",
    "                  icon = folium.Icon(color=\"green\")\n",
    "                 ).add_to(marker_cluster)\n",
    "m"
   ]
  },
  {
   "cell_type": "markdown",
   "id": "53e454dd",
   "metadata": {},
   "source": [
    "## 서울 지도에서 행정 구역별 표시"
   ]
  },
  {
   "cell_type": "code",
   "execution_count": null,
   "id": "cdde9326",
   "metadata": {},
   "outputs": [],
   "source": [
    "# 서울의 행정구역 경계를 GeoJSON으로 표현한 파일 업로드 \n",
    "\n",
    "geo_path = 'seoul_municipalities_geo_simple.json'\n",
    "\n",
    "import json\n",
    "seoul_geo = json.load(open(geo_path, encoding=\"utf-8\"))\n",
    "seoul_geo"
   ]
  },
  {
   "cell_type": "markdown",
   "id": "d4645ff5",
   "metadata": {},
   "source": [
    "서울 지역의 구별 boundary 시각화"
   ]
  },
  {
   "cell_type": "code",
   "execution_count": null,
   "id": "cbfc6b5b",
   "metadata": {
    "scrolled": false
   },
   "outputs": [],
   "source": [
    "m = folium.Map(\n",
    "    location=[37.559819, 126.963895],\n",
    "    zoom_start=11, \n",
    ")\n",
    "\n",
    "# 코드입력\n",
    "folium.GeoJson(\n",
    "    seoul_geo,\n",
    "    name='지역구'\n",
    ").add_to(m)\n",
    "\n",
    "m"
   ]
  },
  {
   "cell_type": "markdown",
   "id": "11f27abe",
   "metadata": {},
   "source": [
    "## tiles 옵션 변경을 통해 지도의 테마 변경\n",
    "\n",
    "지도의 기본 테마(tiles)는 `OpenStreetMap`으로 설정되어 있는데, 이를 변경하여 다른 지도 테마를 적용할 수 있다."
   ]
  },
  {
   "cell_type": "markdown",
   "id": "aad83762",
   "metadata": {},
   "source": [
    "### `Stamen Toner` 적용시"
   ]
  },
  {
   "cell_type": "code",
   "execution_count": null,
   "id": "4bec51d0",
   "metadata": {},
   "outputs": [],
   "source": [
    "m = folium.Map(\n",
    "    location=[37.559819, 126.963895],\n",
    "    zoom_start=11, \n",
    "    # 타일변경\n",
    "    tiles='Stamen Toner'\n",
    ")\n",
    "\n",
    "folium.GeoJson(\n",
    "    seoul_geo,\n",
    "    name='지역구'\n",
    ").add_to(m)\n",
    "\n",
    "m"
   ]
  },
  {
   "cell_type": "markdown",
   "id": "828df163",
   "metadata": {},
   "source": [
    "### `cartodbpositron` 적용시"
   ]
  },
  {
   "cell_type": "code",
   "execution_count": null,
   "id": "fccc7905",
   "metadata": {},
   "outputs": [],
   "source": [
    "m = folium.Map(\n",
    "    location=[37.559819, 126.963895],\n",
    "    zoom_start=11, \n",
    "    # 타일변경\n",
    "    tiles='cartodbpositron'\n",
    ")\n",
    "\n",
    "folium.GeoJson(\n",
    "    seoul_geo,\n",
    "    name='지역구'\n",
    ").add_to(m)\n",
    "\n",
    "m"
   ]
  },
  {
   "cell_type": "markdown",
   "id": "1b3ef9ff",
   "metadata": {},
   "source": [
    "## 서울시 자치구별 상권정보 시각화\n",
    "\n",
    "- [소상공인시장진흥공단 상권 정보 데이터셋 다운로드](https://www.data.go.kr/data/15083033/fileData.do)"
   ]
  },
  {
   "cell_type": "code",
   "execution_count": null,
   "id": "ad96a8b5",
   "metadata": {},
   "outputs": [],
   "source": [
    "import pandas as pd\n",
    "\n",
    "# 서울 상권정보 데이터를 로드합니다\n",
    "seoul = pd.read_csv('상권정보_서울.csv', encoding='cp949')\n",
    "\n",
    "# 필요한 컬럼 정보만 가져옵니다\n",
    "seoul = seoul[['시군구명', '상권업종대분류명', '상권업종중분류명', '위도', '경도']]\n",
    "seoul.head(10)"
   ]
  },
  {
   "cell_type": "markdown",
   "id": "d607a2b0",
   "metadata": {},
   "source": [
    "### 서울시의 업종별 개수 시각화"
   ]
  },
  {
   "cell_type": "code",
   "execution_count": null,
   "id": "22dc6081",
   "metadata": {},
   "outputs": [],
   "source": [
    "import matplotlib.pyplot as plt\n",
    "import seaborn as sns\n",
    "\n",
    "# 한글 폰트 설정\n",
    "plt.rcParams['font.family'] = 'NanumGothic'"
   ]
  },
  {
   "cell_type": "markdown",
   "id": "89f3d815",
   "metadata": {},
   "source": [
    "서울시의 `상권업종중분류명`에 따른 데이터 개수"
   ]
  },
  {
   "cell_type": "code",
   "execution_count": null,
   "id": "49e108a9",
   "metadata": {},
   "outputs": [],
   "source": [
    "seoul['상권업종중분류명'].value_counts()"
   ]
  },
  {
   "cell_type": "code",
   "execution_count": null,
   "id": "81b6ace0",
   "metadata": {},
   "outputs": [],
   "source": [
    "# 코드입력\n",
    "plt.figure(figsize=(12, 30))\n",
    "sns.countplot(y=seoul['상권업종중분류명'])\n",
    "                          # order=seoul['상권업종중분류명'].value_counts().index\n",
    "\n",
    "plt.yticks(fontsize=12)\n",
    "plt.title('서울시 업종별 개수')\n",
    "plt.show()"
   ]
  },
  {
   "cell_type": "markdown",
   "id": "a41f18ae",
   "metadata": {},
   "source": [
    " '도서관/독서실' 업종은 자치구별로 어느 곳에 가장 많이 분포해 있는지 시각화"
   ]
  },
  {
   "cell_type": "code",
   "execution_count": null,
   "id": "0ccc06c0",
   "metadata": {},
   "outputs": [],
   "source": [
    "seoul_lib = seoul[seoul['상권업종중분류명'] == '도서관/독서실']\n",
    "seoul_lib"
   ]
  },
  {
   "cell_type": "code",
   "execution_count": null,
   "id": "2165a490",
   "metadata": {},
   "outputs": [],
   "source": [
    "# 서울의 행정구역 경계를 GeoJSON으로 표현한 파일 업로드 \n",
    "\n",
    "geo_path = 'seoul_municipalities_geo_simple.json'\n",
    "\n",
    "import json\n",
    "seoul_geo = json.load(open(geo_path, encoding=\"utf-8\"))\n",
    "seoul_geo"
   ]
  },
  {
   "cell_type": "code",
   "execution_count": null,
   "id": "b2f904c2",
   "metadata": {},
   "outputs": [],
   "source": [
    "m = folium.Map(\n",
    "    location=[37.559819, 126.963895],\n",
    "    zoom_start=12, \n",
    "    tiles='cartodbpositron'\n",
    ")\n",
    "\n",
    "folium.GeoJson(\n",
    "    seoul_geo,\n",
    "    name='지역구'\n",
    ").add_to(m)"
   ]
  },
  {
   "cell_type": "markdown",
   "id": "4d0636a9",
   "metadata": {},
   "source": [
    "클러스터를 추가하여 지도위에 시각화 "
   ]
  },
  {
   "cell_type": "code",
   "execution_count": null,
   "id": "5dd42963",
   "metadata": {},
   "outputs": [],
   "source": [
    "# 코드입력\n",
    "from folium.plugins import MarkerCluster\n",
    "marker_cluster = MarkerCluster().add_to(m)\n",
    "\n",
    "for lat, long in zip(seoul_lib['위도'], seoul_lib['경도']):\n",
    "    folium.Marker([lat, long] ,\n",
    "                  icon = folium.Icon(color=\"green\")\n",
    "                  ).add_to(marker_cluster)\n",
    "m"
   ]
  },
  {
   "cell_type": "markdown",
   "id": "e18b744d",
   "metadata": {},
   "source": [
    "`choropleth` 를 사용하여 업종 별 개수에 따른 색상의 차이를 둔다."
   ]
  },
  {
   "cell_type": "code",
   "execution_count": null,
   "id": "41699d98",
   "metadata": {},
   "outputs": [],
   "source": [
    "seoul_group_data = seoul_lib.groupby('시군구명')['상권업종중분류명'].count()\n",
    "seoul_group_data"
   ]
  },
  {
   "cell_type": "code",
   "execution_count": null,
   "id": "20e80fdc",
   "metadata": {},
   "outputs": [],
   "source": [
    "m = folium.Map(\n",
    "    location=[37.559819, 126.963895],\n",
    "    zoom_start=11, \n",
    "    tiles='cartodbpositron'\n",
    ")\n",
    "\n",
    "folium.GeoJson(\n",
    "    seoul_geo,\n",
    "    name='지역구'\n",
    ").add_to(m)\n",
    "m"
   ]
  },
  {
   "cell_type": "code",
   "execution_count": null,
   "id": "3d767bdd",
   "metadata": {},
   "outputs": [],
   "source": [
    "# 코드입력\n",
    "m.choropleth(geo_data=seoul_geo,\n",
    "             data=seoul_group_data, \n",
    "             fill_color='YlOrRd', # 색상 변경도 가능하다\n",
    "             fill_opacity=0.5,\n",
    "             line_opacity=0.2,\n",
    "             key_on='properties.name',\n",
    "             legend_name=\"지역구별 도서관/독서실 수\"\n",
    "            )\n",
    "m"
   ]
  },
  {
   "cell_type": "markdown",
   "id": "02a03123",
   "metadata": {},
   "source": [
    "## Html 파일로 저장"
   ]
  },
  {
   "cell_type": "code",
   "execution_count": null,
   "id": "01bb7f64",
   "metadata": {},
   "outputs": [],
   "source": [
    "m.save('map.html')"
   ]
  },
  {
   "cell_type": "code",
   "execution_count": null,
   "id": "46374e48",
   "metadata": {},
   "outputs": [],
   "source": []
  }
 ],
 "metadata": {
  "kernelspec": {
   "display_name": "Python 3.9.12 ('base')",
   "language": "python",
   "name": "python3"
  },
  "language_info": {
   "codemirror_mode": {
    "name": "ipython",
    "version": 3
   },
   "file_extension": ".py",
   "mimetype": "text/x-python",
   "name": "python",
   "nbconvert_exporter": "python",
   "pygments_lexer": "ipython3",
   "version": "3.9.12"
  },
  "vscode": {
   "interpreter": {
    "hash": "336a7167fa095a0568fd0f482e8c39d2425961124f25fc4caa4d3cae90c24243"
   }
  }
 },
 "nbformat": 4,
 "nbformat_minor": 5
}
