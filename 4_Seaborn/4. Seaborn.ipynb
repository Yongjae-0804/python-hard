{
 "cells": [
  {
   "cell_type": "code",
   "execution_count": null,
   "metadata": {},
   "outputs": [],
   "source": [
    "import numpy as np\n",
    "import matplotlib.pyplot as plt\n",
    "import seaborn as sns"
   ]
  },
  {
   "cell_type": "code",
   "execution_count": null,
   "metadata": {},
   "outputs": [],
   "source": [
    "# seaborn에서 제공해는 샘플 데이터셋을 사용해서 시각화를 진행해보자.\n",
    "# sns.load_dataset('데이터셋이름')\n",
    "tips = sns.load_dataset('tips')\n",
    "tips\n",
    "# 한 레스토랑에 방문한 고객의 정보\n",
    "# 음식값, 팁, 성별, 흡연여부, 방문요일, 방문시간(점심 or 저녁), 일행의 인원수"
   ]
  },
  {
   "cell_type": "code",
   "execution_count": null,
   "metadata": {},
   "outputs": [],
   "source": [
    "tips.info()"
   ]
  },
  {
   "cell_type": "code",
   "execution_count": null,
   "metadata": {},
   "outputs": [],
   "source": [
    "tips.shape"
   ]
  },
  {
   "cell_type": "markdown",
   "metadata": {},
   "source": [
    "#### Boxplot"
   ]
  },
  {
   "cell_type": "code",
   "execution_count": null,
   "metadata": {},
   "outputs": [],
   "source": [
    "import seaborn as sns\n",
    "\n",
    "sns.set_style('whitegrid')   # 전체적인 스타일 지정, white, darkgrid..\n",
    "plt.figure(figsize=(5,3))\n",
    "\n",
    "# 데이터의 분포를 확인하기 좋은 그래프\n",
    "sns.boxplot(y=tips['total_bill'])   # sns.그래프이름()\n",
    "\n",
    "plt.show()"
   ]
  },
  {
   "cell_type": "code",
   "execution_count": null,
   "metadata": {},
   "outputs": [],
   "source": [
    "plt.figure(figsize=(5,3))\n",
    "#sns.boxplot(y=tips['total_bill'],x=tips['day'])\n",
    "sns.boxplot(data=tips, x='day',y='total_bill')\n",
    "plt.show()"
   ]
  },
  {
   "cell_type": "code",
   "execution_count": null,
   "metadata": {},
   "outputs": [],
   "source": [
    "plt.figure(figsize=(5,3))\n",
    "# sns.boxplot(y=tips['total_bill'],x=tips['day'])\n",
    "sns.boxplot(data=tips, x='sex', y='tip')\n",
    "plt.show()"
   ]
  },
  {
   "cell_type": "code",
   "execution_count": null,
   "metadata": {},
   "outputs": [],
   "source": [
    "plt.figure(figsize=(5,3))\n",
    "\n",
    "sns.boxplot(data=tips,x='day',y='total_bill',\n",
    "           hue=\"smoker\")     # hue='범례로 지정할 컬럼'\n",
    "\n",
    "plt.show()"
   ]
  },
  {
   "cell_type": "code",
   "execution_count": null,
   "metadata": {},
   "outputs": [],
   "source": [
    "plt.figure(figsize=(5,3))\n",
    "# swarmplot - 데이터의 분포를 점으로 표시해준다.\n",
    "sns.swarmplot(data=tips, x='day', y='total_bill',\n",
    "           hue=\"smoker\")\n",
    "\n",
    "plt.show()"
   ]
  },
  {
   "cell_type": "code",
   "execution_count": null,
   "metadata": {},
   "outputs": [],
   "source": [
    "plt.figure(figsize=(5,3))\n",
    "sns.boxplot(data=tips,x='day',y='total_bill')\n",
    "sns.swarmplot(data=tips,x='day',y='total_bill')\n",
    "plt.show()"
   ]
  },
  {
   "cell_type": "code",
   "execution_count": null,
   "metadata": {},
   "outputs": [],
   "source": [
    "sns.set(font_scale=1) # 글자 크기를 지정\n",
    "sns.set_style('whitegrid')\n",
    "plt.figure(figsize=(10,5))\n",
    "# 산점도 분포(x, y, hue, data) - 데이터의 분포를 점으로 출력해준다.\n",
    "# 음식값과 팁의 상관관계를 보기위한 산점도 분포.\n",
    "sns.scatterplot(x='total_bill',y='tip',\n",
    "          data=tips, hue='smoker')\n",
    "plt.show()"
   ]
  },
  {
   "cell_type": "code",
   "execution_count": null,
   "metadata": {},
   "outputs": [],
   "source": [
    "plt.figure(figsize=(10,6))\n",
    "# 산점도 분포와 동시에 데이터의 분포를 분석해서 '회귀선'을 그려준다.\n",
    "sns.lmplot(x='total_bill',y='tip',\n",
    "          data=tips, hue='smoker',\n",
    "          height=7)\n",
    "plt.show()"
   ]
  },
  {
   "cell_type": "markdown",
   "metadata": {},
   "source": [
    "#### 한 번에 여러 개의 그래프 그리기"
   ]
  },
  {
   "cell_type": "code",
   "execution_count": null,
   "metadata": {},
   "outputs": [],
   "source": [
    "sns.set(font_scale=1)\n",
    "fig, ax = plt.subplots(ncols=2, nrows=2, figsize=(15,10))\n",
    "\n",
    "sns.boxplot(data=tips, x='day', y='total_bill', ax=ax[0,0])\n",
    "sns.swarmplot(data=tips, x='day', y='total_bill', ax=ax[0,1]) \n",
    "sns.scatterplot(data=tips, x='total_bill', y='tip', ax=ax[1,0])\n",
    "sns.violinplot(data=tips, x='time', y='total_bill', ax=ax[1,1])\n",
    "\n",
    "ax[0,0].set_title('img1')\n",
    "\n",
    "fig.tight_layout()\n",
    "plt.show()"
   ]
  }
 ],
 "metadata": {
  "kernelspec": {
   "display_name": "Python 3 (ipykernel)",
   "language": "python",
   "name": "python3"
  },
  "language_info": {
   "codemirror_mode": {
    "name": "ipython",
    "version": 3
   },
   "file_extension": ".py",
   "mimetype": "text/x-python",
   "name": "python",
   "nbconvert_exporter": "python",
   "pygments_lexer": "ipython3",
   "version": "3.9.12"
  }
 },
 "nbformat": 4,
 "nbformat_minor": 4
}
